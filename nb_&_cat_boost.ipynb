{
  "nbformat": 4,
  "nbformat_minor": 0,
  "metadata": {
    "colab": {
      "name": "nb_&_cat_boost.ipynb",
      "provenance": [],
      "collapsed_sections": [],
      "toc_visible": true,
      "authorship_tag": "ABX9TyOK8+5woStFaZQpmNyitWqB",
      "include_colab_link": true
    },
    "kernelspec": {
      "name": "python3",
      "display_name": "Python 3"
    },
    "language_info": {
      "name": "python"
    },
    "accelerator": "GPU"
  },
  "cells": [
    {
      "cell_type": "markdown",
      "metadata": {
        "id": "view-in-github",
        "colab_type": "text"
      },
      "source": [
        "<a href=\"https://colab.research.google.com/github/EleonoraBaim/NPS_Dialogue_system/blob/main/nb_%26_cat_boost.ipynb\" target=\"_parent\"><img src=\"https://colab.research.google.com/assets/colab-badge.svg\" alt=\"Open In Colab\"/></a>"
      ]
    },
    {
      "cell_type": "markdown",
      "source": [
        "# Installing and importing libraries"
      ],
      "metadata": {
        "id": "FPdtjWTV7wrD"
      }
    },
    {
      "cell_type": "code",
      "source": [
        "!pip install pymorphy2"
      ],
      "metadata": {
        "colab": {
          "base_uri": "https://localhost:8080/"
        },
        "id": "YpJZXUg_Lus_",
        "outputId": "894ea2c2-ef17-427f-8d9f-08c4062fa6a4"
      },
      "execution_count": null,
      "outputs": [
        {
          "output_type": "stream",
          "name": "stdout",
          "text": [
            "Collecting pymorphy2\n",
            "  Downloading pymorphy2-0.9.1-py3-none-any.whl (55 kB)\n",
            "\u001b[?25l\r\u001b[K     |██████                          | 10 kB 18.0 MB/s eta 0:00:01\r\u001b[K     |███████████▉                    | 20 kB 17.8 MB/s eta 0:00:01\r\u001b[K     |█████████████████▊              | 30 kB 19.6 MB/s eta 0:00:01\r\u001b[K     |███████████████████████▋        | 40 kB 20.1 MB/s eta 0:00:01\r\u001b[K     |█████████████████████████████▌  | 51 kB 17.1 MB/s eta 0:00:01\r\u001b[K     |████████████████████████████████| 55 kB 3.2 MB/s \n",
            "\u001b[?25hCollecting dawg-python>=0.7.1\n",
            "  Downloading DAWG_Python-0.7.2-py2.py3-none-any.whl (11 kB)\n",
            "Requirement already satisfied: docopt>=0.6 in /usr/local/lib/python3.7/dist-packages (from pymorphy2) (0.6.2)\n",
            "Collecting pymorphy2-dicts-ru<3.0,>=2.4\n",
            "  Downloading pymorphy2_dicts_ru-2.4.417127.4579844-py2.py3-none-any.whl (8.2 MB)\n",
            "\u001b[K     |████████████████████████████████| 8.2 MB 14.4 MB/s \n",
            "\u001b[?25hInstalling collected packages: pymorphy2-dicts-ru, dawg-python, pymorphy2\n",
            "Successfully installed dawg-python-0.7.2 pymorphy2-0.9.1 pymorphy2-dicts-ru-2.4.417127.4579844\n"
          ]
        }
      ]
    },
    {
      "cell_type": "code",
      "source": [
        "pip install  scikit-multilearn"
      ],
      "metadata": {
        "colab": {
          "base_uri": "https://localhost:8080/"
        },
        "id": "cUQSfIDkLvtC",
        "outputId": "7b88edc1-215f-4a49-a88c-2e44288db53a"
      },
      "execution_count": null,
      "outputs": [
        {
          "output_type": "stream",
          "name": "stdout",
          "text": [
            "Collecting scikit-multilearn\n",
            "  Downloading scikit_multilearn-0.2.0-py3-none-any.whl (89 kB)\n",
            "\u001b[?25l\r\u001b[K     |███▊                            | 10 kB 25.1 MB/s eta 0:00:01\r\u001b[K     |███████▍                        | 20 kB 28.1 MB/s eta 0:00:01\r\u001b[K     |███████████                     | 30 kB 19.3 MB/s eta 0:00:01\r\u001b[K     |██████████████▊                 | 40 kB 16.4 MB/s eta 0:00:01\r\u001b[K     |██████████████████▍             | 51 kB 14.2 MB/s eta 0:00:01\r\u001b[K     |██████████████████████          | 61 kB 12.5 MB/s eta 0:00:01\r\u001b[K     |█████████████████████████▊      | 71 kB 12.0 MB/s eta 0:00:01\r\u001b[K     |█████████████████████████████▍  | 81 kB 13.0 MB/s eta 0:00:01\r\u001b[K     |████████████████████████████████| 89 kB 5.5 MB/s \n",
            "\u001b[?25hInstalling collected packages: scikit-multilearn\n",
            "Successfully installed scikit-multilearn-0.2.0\n"
          ]
        }
      ]
    },
    {
      "cell_type": "code",
      "source": [
        "pip install catboost"
      ],
      "metadata": {
        "colab": {
          "base_uri": "https://localhost:8080/"
        },
        "id": "nnWPyM7zLvxm",
        "outputId": "73b613db-1e15-4fbd-cd12-770acb80ccd1"
      },
      "execution_count": null,
      "outputs": [
        {
          "output_type": "stream",
          "name": "stdout",
          "text": [
            "Collecting catboost\n",
            "  Downloading catboost-1.0.3-cp37-none-manylinux1_x86_64.whl (76.3 MB)\n",
            "\u001b[K     |████████████████████████████████| 76.3 MB 1.3 MB/s \n",
            "\u001b[?25hRequirement already satisfied: six in /usr/local/lib/python3.7/dist-packages (from catboost) (1.15.0)\n",
            "Requirement already satisfied: graphviz in /usr/local/lib/python3.7/dist-packages (from catboost) (0.10.1)\n",
            "Requirement already satisfied: pandas>=0.24.0 in /usr/local/lib/python3.7/dist-packages (from catboost) (1.1.5)\n",
            "Requirement already satisfied: scipy in /usr/local/lib/python3.7/dist-packages (from catboost) (1.4.1)\n",
            "Requirement already satisfied: numpy>=1.16.0 in /usr/local/lib/python3.7/dist-packages (from catboost) (1.19.5)\n",
            "Requirement already satisfied: matplotlib in /usr/local/lib/python3.7/dist-packages (from catboost) (3.2.2)\n",
            "Requirement already satisfied: plotly in /usr/local/lib/python3.7/dist-packages (from catboost) (4.4.1)\n",
            "Requirement already satisfied: pytz>=2017.2 in /usr/local/lib/python3.7/dist-packages (from pandas>=0.24.0->catboost) (2018.9)\n",
            "Requirement already satisfied: python-dateutil>=2.7.3 in /usr/local/lib/python3.7/dist-packages (from pandas>=0.24.0->catboost) (2.8.2)\n",
            "Requirement already satisfied: cycler>=0.10 in /usr/local/lib/python3.7/dist-packages (from matplotlib->catboost) (0.11.0)\n",
            "Requirement already satisfied: pyparsing!=2.0.4,!=2.1.2,!=2.1.6,>=2.0.1 in /usr/local/lib/python3.7/dist-packages (from matplotlib->catboost) (3.0.6)\n",
            "Requirement already satisfied: kiwisolver>=1.0.1 in /usr/local/lib/python3.7/dist-packages (from matplotlib->catboost) (1.3.2)\n",
            "Requirement already satisfied: retrying>=1.3.3 in /usr/local/lib/python3.7/dist-packages (from plotly->catboost) (1.3.3)\n",
            "Installing collected packages: catboost\n",
            "Successfully installed catboost-1.0.3\n"
          ]
        }
      ]
    },
    {
      "cell_type": "code",
      "source": [
        "import os\n",
        "import json\n",
        "import numpy as np\n",
        "import pandas as pd\n",
        "import re\n",
        "import pickle\n",
        "\n",
        "#from transformers import BertTokenizer\n",
        "from skmultilearn.problem_transform import BinaryRelevance\n",
        "from skmultilearn.problem_transform import ClassifierChain\n",
        "from skmultilearn.problem_transform import LabelPowerset\n",
        "\n",
        "\n",
        "from sklearn.naive_bayes import MultinomialNB\n",
        "from catboost import Pool, CatBoostClassifier\n",
        "from sklearn.multiclass import OneVsRestClassifier\n",
        "from sklearn.feature_extraction.text import TfidfVectorizer\n",
        "from sklearn.metrics import classification_report, confusion_matrix, precision_score, recall_score, hamming_loss, accuracy_score\n",
        "import pymorphy2\n",
        "\n",
        "project_path = \"/content/drive/MyDrive/Colab_Notebooks/BERT/\"\n",
        "\n",
        "min_df = 1/1000\n",
        "max_df = 1/20\n",
        "dataset_folder = \"ready_datasets\"\n",
        "tokenizer_model_path = \"BERT_models/rubert-base-cased-conversational\"\n",
        "model_path = 'model_parts'"
      ],
      "metadata": {
        "id": "UtP7Y7i4tqTZ"
      },
      "execution_count": null,
      "outputs": []
    },
    {
      "cell_type": "code",
      "source": [
        "from google.colab import drive\n",
        "drive.mount(\"/content/drive/\")"
      ],
      "metadata": {
        "colab": {
          "base_uri": "https://localhost:8080/"
        },
        "id": "tzIxog4Stg1h",
        "outputId": "59109d71-e027-49d2-ae0f-e21426c702ed"
      },
      "execution_count": null,
      "outputs": [
        {
          "output_type": "stream",
          "name": "stdout",
          "text": [
            "Mounted at /content/drive/\n"
          ]
        }
      ]
    },
    {
      "cell_type": "markdown",
      "source": [
        "# Data Importing and preprocessing\n"
      ],
      "metadata": {
        "id": "Y7IjxBAT7rfy"
      }
    },
    {
      "cell_type": "code",
      "source": [
        "#IMPORTING DATA\n",
        "print('Importing data...', '\\n')\n",
        "\n",
        "train_df = pd.read_csv(str(project_path + dataset_folder + '/'+'train_dataset.csv'))\n",
        "train_df.drop(labels = 'Unnamed: 0', axis = 1, inplace = True)\n",
        "\n",
        "test_df = pd.read_csv(str(project_path + dataset_folder + '/'+ 'test_dataset.csv'))\n",
        "test_df.drop(labels = 'Unnamed: 0', axis = 1, inplace = True)\n",
        "\n",
        "val_df = pd.read_csv(str(project_path + dataset_folder + '/'+'val_dataset.csv'))\n",
        "val_df.drop(labels = 'Unnamed: 0', axis = 1, inplace = True)\n",
        "\n",
        "text = 'CONTEXT'\n",
        "norm_text = 'normalized'\n",
        "target_list = train_df.columns[(train_df.columns!='CONTEXT')&(train_df.columns!='normalized')]"
      ],
      "metadata": {
        "colab": {
          "base_uri": "https://localhost:8080/"
        },
        "id": "-DPi_KjhtoFi",
        "outputId": "8a4e787d-749d-4a25-c183-194f772eb569"
      },
      "execution_count": null,
      "outputs": [
        {
          "output_type": "stream",
          "name": "stdout",
          "text": [
            "Importing data... \n",
            "\n"
          ]
        }
      ]
    },
    {
      "cell_type": "code",
      "source": [
        "print('Text Vectorization: ')\n",
        "\n",
        "# Создаем векторизатор\n",
        "tfidf_text = TfidfVectorizer(ngram_range=(1, 2), min_df=min_df, max_df=max_df)\n",
        "tfidf_text.fit(train_df[norm_text])\n",
        "\n",
        "print('Vocab size text: ' + str(len(tfidf_text.vocabulary_)))\n",
        "\n",
        "with open(str(project_path + model_path +  'tfidf_vectorizer_text.pickle'), 'wb') as handle:\n",
        "    pickle.dump(tfidf_text, handle, protocol=pickle.HIGHEST_PROTOCOL)\n",
        "    print('Text vectoriztor saved to ' + str(project_path + model_path +'/'+'tfidf_vectorizer_text.pickle'))\n",
        "\n",
        "train_data = tf_idf_transform(train_df[norm_text], tfidf_text)\n",
        "test_data = tf_idf_transform(test_df[norm_text], tfidf_text)\n",
        "val_data = tf_idf_transform(val_df[norm_text], tfidf_text)\n",
        "\n",
        "tfdf_cols = train_data.columns\n",
        "\n",
        "train_data = train_data.join(train_df)\n",
        "val_data = val_data.join(val_df)\n",
        "test_data = test_data.join(test_df)"
      ],
      "metadata": {
        "colab": {
          "base_uri": "https://localhost:8080/"
        },
        "id": "Ve2HmAcu8DBs",
        "outputId": "0bfecafa-1f61-48d1-cfd4-1cb9b5a954e2"
      },
      "execution_count": null,
      "outputs": [
        {
          "output_type": "stream",
          "name": "stdout",
          "text": [
            "Text Vectorization: \n",
            "Vocab size text: 2169\n",
            "Text vectoriztor saved to /content/drive/MyDrive/Colab_Notebooks/BERT/model_parts/tfidf_vectorizer_text.pickle\n"
          ]
        },
        {
          "output_type": "stream",
          "name": "stderr",
          "text": [
            "/usr/local/lib/python3.7/dist-packages/sklearn/utils/deprecation.py:87: FutureWarning: Function get_feature_names is deprecated; get_feature_names is deprecated in 1.0 and will be removed in 1.2. Please use get_feature_names_out instead.\n",
            "  warnings.warn(msg, category=FutureWarning)\n",
            "100%|██████████| 2169/2169 [00:06<00:00, 350.73it/s]\n",
            "/usr/local/lib/python3.7/dist-packages/sklearn/utils/deprecation.py:87: FutureWarning: Function get_feature_names is deprecated; get_feature_names is deprecated in 1.0 and will be removed in 1.2. Please use get_feature_names_out instead.\n",
            "  warnings.warn(msg, category=FutureWarning)\n",
            "100%|██████████| 2169/2169 [00:02<00:00, 861.36it/s]\n",
            "/usr/local/lib/python3.7/dist-packages/sklearn/utils/deprecation.py:87: FutureWarning: Function get_feature_names is deprecated; get_feature_names is deprecated in 1.0 and will be removed in 1.2. Please use get_feature_names_out instead.\n",
            "  warnings.warn(msg, category=FutureWarning)\n",
            "100%|██████████| 2169/2169 [00:02<00:00, 885.39it/s]\n"
          ]
        }
      ]
    },
    {
      "cell_type": "markdown",
      "source": [
        "# Model training\n"
      ],
      "metadata": {
        "id": "RlcQndr4CHXC"
      }
    },
    {
      "cell_type": "markdown",
      "source": [
        "## NB"
      ],
      "metadata": {
        "id": "fqs7k2GcCP8v"
      }
    },
    {
      "cell_type": "code",
      "source": [
        "from sklearn.multioutput import MultiOutputRegressor\n",
        "#ML\n",
        "model_NB = MultiOutputRegressor(MultinomialNB())\n",
        "\n",
        "model_NB.fit(train_data[tfdf_cols], train_data[target_list])\n",
        "\n",
        "preds_NB = model_NB.predict(test_data[tfdf_cols])\n",
        "\n",
        "#print(confusion_matrix(y_validation, preds_NB))\n",
        "print(classification_report(test_data[target_list], preds_NB))"
      ],
      "metadata": {
        "colab": {
          "base_uri": "https://localhost:8080/"
        },
        "id": "5Ig2BaeoHFUZ",
        "outputId": "902449ab-b23b-4068-ba29-b57af5ee7162"
      },
      "execution_count": null,
      "outputs": [
        {
          "output_type": "stream",
          "name": "stdout",
          "text": [
            "              precision    recall  f1-score   support\n",
            "\n",
            "           0       0.68      0.32      0.44       146\n",
            "           1       0.85      0.41      0.55       285\n",
            "           2       0.68      0.34      0.45       481\n",
            "           3       0.73      0.08      0.15       132\n",
            "           4       0.78      0.20      0.31       458\n",
            "           5       0.96      0.25      0.39       106\n",
            "           6       0.83      0.58      0.68       322\n",
            "           7       0.74      0.45      0.56       525\n",
            "           8       0.93      0.29      0.44       184\n",
            "           9       0.81      0.26      0.40       160\n",
            "          10       0.93      0.28      0.44       250\n",
            "          11       0.91      0.24      0.37       123\n",
            "          12       0.88      0.16      0.27       218\n",
            "          13       0.89      0.23      0.36       502\n",
            "          14       0.76      0.55      0.64       498\n",
            "          15       0.94      0.18      0.31       181\n",
            "          16       1.00      0.01      0.02       197\n",
            "          17       0.33      0.01      0.02       127\n",
            "          18       0.75      0.04      0.08       137\n",
            "          19       0.67      0.01      0.02       207\n",
            "          20       0.85      0.70      0.77       408\n",
            "          21       1.00      0.04      0.07       165\n",
            "          22       0.81      0.23      0.35       186\n",
            "          23       0.95      0.18      0.30       234\n",
            "          24       0.80      0.02      0.04       197\n",
            "          25       1.00      0.05      0.09       169\n",
            "          26       0.92      0.38      0.53        64\n",
            "          27       0.67      0.44      0.53       432\n",
            "          28       0.96      0.50      0.66       141\n",
            "          29       0.78      0.71      0.74       906\n",
            "          30       0.96      0.29      0.45       396\n",
            "          31       1.00      0.14      0.25       111\n",
            "          32       0.80      0.57      0.66      1147\n",
            "          33       0.89      0.55      0.68       483\n",
            "          34       1.00      0.05      0.09        81\n",
            "          35       1.00      0.05      0.09       106\n",
            "          36       1.00      0.01      0.01       139\n",
            "          37       0.00      0.00      0.00        31\n",
            "          38       0.65      0.21      0.32      1946\n",
            "\n",
            "   micro avg       0.79      0.34      0.48     12581\n",
            "   macro avg       0.82      0.26      0.35     12581\n",
            "weighted avg       0.80      0.34      0.44     12581\n",
            " samples avg       0.42      0.38      0.38     12581\n",
            "\n"
          ]
        },
        {
          "output_type": "stream",
          "name": "stderr",
          "text": [
            "/usr/local/lib/python3.7/dist-packages/sklearn/metrics/_classification.py:1308: UndefinedMetricWarning: Precision and F-score are ill-defined and being set to 0.0 in labels with no predicted samples. Use `zero_division` parameter to control this behavior.\n",
            "  _warn_prf(average, modifier, msg_start, len(result))\n",
            "/usr/local/lib/python3.7/dist-packages/sklearn/metrics/_classification.py:1308: UndefinedMetricWarning: Precision and F-score are ill-defined and being set to 0.0 in samples with no predicted labels. Use `zero_division` parameter to control this behavior.\n",
            "  _warn_prf(average, modifier, msg_start, len(result))\n"
          ]
        }
      ]
    },
    {
      "cell_type": "markdown",
      "source": [
        "## Cat Boost"
      ],
      "metadata": {
        "id": "x2pEU282CMNP"
      }
    },
    {
      "cell_type": "code",
      "source": [
        "task_type = 'CPU'\n",
        "\n",
        "model_CB = CatBoostClassifier(iterations=1000, random_state=1, learning_rate=0.05, verbose=10000,\n",
        "                           od_type=\"Iter\", od_wait=200, eval_metric='HammingLoss', use_best_model=True, depth=4, loss_function='MultiLogloss',task_type=task_type)\n",
        "\n",
        "# Данные в модель подаются через Pool\n",
        "p_train = Pool(train_data[tfdf_cols], train_data[target_list])\n",
        "p_val = Pool(val_data[tfdf_cols], val_data[target_list])\n",
        "\n",
        "model_CB.fit(p_train, eval_set=p_val)"
      ],
      "metadata": {
        "colab": {
          "base_uri": "https://localhost:8080/"
        },
        "id": "kSbs01X9K-AI",
        "outputId": "68c8c3f1-7a64-422a-c819-56603c05eb71"
      },
      "execution_count": null,
      "outputs": [
        {
          "output_type": "stream",
          "name": "stderr",
          "text": [
            "Custom logger is already specified. Specify more than one logger at same time is not thread safe."
          ]
        },
        {
          "output_type": "stream",
          "name": "stdout",
          "text": [
            "0:\tlearn: 0.0404060\ttest: 0.0391652\tbest: 0.0391652 (0)\ttotal: 3.78s\tremaining: 1h 2m 59s\n",
            "999:\tlearn: 0.0283918\ttest: 0.0282903\tbest: 0.0282903 (999)\ttotal: 52m 46s\tremaining: 0us\n",
            "\n",
            "bestTest = 0.02829031745\n",
            "bestIteration = 999\n",
            "\n"
          ]
        },
        {
          "output_type": "execute_result",
          "data": {
            "text/plain": [
              "<catboost.core.CatBoostClassifier at 0x7fc643040990>"
            ]
          },
          "metadata": {},
          "execution_count": 20
        }
      ]
    },
    {
      "cell_type": "code",
      "source": [
        "preds_CB = model_CB.predict(test_data[tfdf_cols])"
      ],
      "metadata": {
        "id": "V2k92x35vFLq"
      },
      "execution_count": null,
      "outputs": []
    },
    {
      "cell_type": "code",
      "source": [
        "print(classification_report(test_data[target_list], preds_CB))\n",
        "print(\"Hamming Loss:\", hamming_loss(test_data[target_list], preds_CB))"
      ],
      "metadata": {
        "colab": {
          "base_uri": "https://localhost:8080/"
        },
        "id": "m-4LA4869nVR",
        "outputId": "308de329-13ae-42cf-99e7-9afe02607afa"
      },
      "execution_count": null,
      "outputs": [
        {
          "output_type": "stream",
          "name": "stdout",
          "text": [
            "              precision    recall  f1-score   support\n",
            "\n",
            "           0       0.91      0.29      0.45       146\n",
            "           1       0.78      0.80      0.79       285\n",
            "           2       0.75      0.18      0.29       481\n",
            "           3       0.94      0.12      0.21       132\n",
            "           4       0.85      0.18      0.29       458\n",
            "           5       0.90      0.42      0.57       106\n",
            "           6       0.89      0.42      0.57       322\n",
            "           7       0.84      0.36      0.50       525\n",
            "           8       0.84      0.80      0.82       184\n",
            "           9       0.70      0.29      0.41       160\n",
            "          10       0.68      0.70      0.69       250\n",
            "          11       0.87      0.37      0.51       123\n",
            "          12       0.79      0.28      0.42       218\n",
            "          13       0.86      0.11      0.19       502\n",
            "          14       0.83      0.30      0.44       498\n",
            "          15       0.71      0.87      0.79       181\n",
            "          16       1.00      0.01      0.01       197\n",
            "          17       0.00      0.00      0.00       127\n",
            "          18       0.75      0.09      0.16       137\n",
            "          19       1.00      0.01      0.02       207\n",
            "          20       0.90      0.76      0.82       408\n",
            "          21       0.75      0.05      0.10       165\n",
            "          22       0.80      0.18      0.29       186\n",
            "          23       0.96      0.40      0.56       234\n",
            "          24       0.83      0.05      0.10       197\n",
            "          25       1.00      0.11      0.19       169\n",
            "          26       0.93      0.88      0.90        64\n",
            "          27       0.88      0.28      0.43       432\n",
            "          28       0.98      0.89      0.93       141\n",
            "          29       0.82      0.49      0.61       906\n",
            "          30       0.99      0.33      0.49       396\n",
            "          31       1.00      0.23      0.37       111\n",
            "          32       0.89      0.54      0.68      1147\n",
            "          33       0.87      0.70      0.78       483\n",
            "          34       0.81      0.26      0.39        81\n",
            "          35       0.88      0.07      0.12       106\n",
            "          36       1.00      0.07      0.13       139\n",
            "          37       0.00      0.00      0.00        31\n",
            "          38       0.79      0.12      0.21      1946\n",
            "\n",
            "   micro avg       0.84      0.34      0.48     12581\n",
            "   macro avg       0.82      0.33      0.42     12581\n",
            "weighted avg       0.84      0.34      0.44     12581\n",
            " samples avg       0.43      0.36      0.38     12581\n",
            "\n",
            "Hamming Loss: 0.028038419938431956\n"
          ]
        },
        {
          "output_type": "stream",
          "name": "stderr",
          "text": [
            "/usr/local/lib/python3.7/dist-packages/sklearn/metrics/_classification.py:1308: UndefinedMetricWarning: Precision and F-score are ill-defined and being set to 0.0 in labels with no predicted samples. Use `zero_division` parameter to control this behavior.\n",
            "  _warn_prf(average, modifier, msg_start, len(result))\n",
            "/usr/local/lib/python3.7/dist-packages/sklearn/metrics/_classification.py:1308: UndefinedMetricWarning: Precision and F-score are ill-defined and being set to 0.0 in samples with no predicted labels. Use `zero_division` parameter to control this behavior.\n",
            "  _warn_prf(average, modifier, msg_start, len(result))\n"
          ]
        }
      ]
    },
    {
      "cell_type": "code",
      "source": [
        "model_CB.save_model(str(project_path+model_path+'/'+'cat_boost.cbm'),\n",
        "           format=\"cbm\",\n",
        "           export_parameters=None,\n",
        "           pool=None)"
      ],
      "metadata": {
        "id": "hRli7YVSHwNs"
      },
      "execution_count": null,
      "outputs": []
    }
  ]
}